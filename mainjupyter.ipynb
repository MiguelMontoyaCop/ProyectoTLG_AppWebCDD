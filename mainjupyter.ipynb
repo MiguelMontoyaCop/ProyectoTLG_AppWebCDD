{
 "cells": [
  {
   "cell_type": "code",
   "execution_count": 2,
   "id": "9b96650f",
   "metadata": {},
   "outputs": [
    {
     "data": {
      "text/plain": [
       "DeltaGenerator(_root_container=0, _provided_cursor=None, _parent=None, _block_type=None, _form_data=None)"
      ]
     },
     "execution_count": 2,
     "metadata": {},
     "output_type": "execute_result"
    }
   ],
   "source": [
    "import streamlit as st\n",
    "import pandas as pd\n",
    "import numpy as np\n",
    "import matplotlib.pyplot as plt\n",
    "\n",
    "st.title(\"Conociendo el desempeño de los colaboradores del área de Marketing de Socialize your Knowledge\")\n",
    "st.write(\"Este dashboard proporciona un análisis detallado del desempeño de los empleados de la empresa. Utilizando una base de datos de información de los colaboradores, se presentan gráficos y estadísticas para identificar las fortalezas y áreas de mejora de cada uno. Con esta herramienta, los empleados pueden monitorear su rendimiento y tomar medidas para mejorarlo.\")\n",
    "\n",
    "# Cargar la base de datos\n",
    "data = pd.read_csv(\"employee_data.csv\")\n",
    "\n",
    "# Desplegar el logotipo de la empresa\n",
    "st.sidebar.image('logo.png', width=150)\n",
    "\n",
    "# Desplegar sidebar\n",
    "st.sidebar.title(\"Filtros y Selectores\")\n",
    "\n",
    "# Desplegar un control para seleccionar el género del empleado\n",
    "gender_options = st.sidebar.selectbox('Seleccione el género del empleado', data['gender'].unique())\n",
    "data = data[data['gender'] == gender_options]\n",
    "\n",
    "# Desplegar un control para seleccionar un rango del puntaje de desempeño del empleado\n",
    "performance_options = st.sidebar.slider('Seleccione el rango del puntaje de desempeño del empleado', 1, 5, (1, 5))\n",
    "data = data[(data['performance_score'] >= performance_options[0]) & (data['performance_score'] <= performance_options[1])]\n",
    "\n",
    "# Desplegar un control para seleccionar el estado civil del empleado\n",
    "marital_options = st.sidebar.selectbox('Seleccione el estado civil del empleado', data['marital_status'].unique())\n",
    "data = data[data['marital_status'] == marital_options]\n",
    "\n",
    "# Gráfico para visualizar la distribución de los puntajes de desempeño\n",
    "plt.hist(data['performance_score'], bins=5)\n",
    "plt.xlabel('Puntaje de desempeño')\n",
    "plt.ylabel('Numero de empleados')\n",
    "plt.title('Distribución de los puntajes de desempeño')\n",
    "st.pyplot()\n",
    "\n",
    "# Gráfico para visualizar el promedio de horas trabajadas por el género del empleado\n",
    "# data_grouped = data.groupby('gender').mean()\n",
    "data_grouped = data.groupby('gender').mean(numeric_only=True)\n",
    "data_grouped.reset_index(inplace=True)\n",
    "data_grouped.plot.bar(x='gender', y='average_work_hours', rot=0)\n",
    "plt.xlabel('Género')\n",
    "plt.ylabel('Promedio de horas trabajadas')\n",
    "plt.title('Promedio de horas trabajadas por el género del empleado')\n",
    "st.pyplot()\n",
    "\n",
    "# Gráfico para visualizar la edad de los empleados con respecto al salario de estos\n",
    "plt.scatter(data['age'], data['salary'])\n",
    "plt.xlabel('Edad')\n",
    "plt.ylabel('Salario')\n",
    "plt.title('Edad de los empleados con respecto al salario')\n",
    "st.pyplot()\n",
    "\n",
    "# Gráfico para visualizar la relación del promedio de horas trabajadas versus el puntaje de desempeño\n",
    "plt.scatter(data['average_work_hours'], data['performance_score'])\n",
    "plt.xlabel('Promedio de horas trabajadas')\n",
    "plt.ylabel('Puntaje de desempeño')\n",
    "plt.title('Relación del promedio de horas trabajadas versus el puntaje de desempeño')\n",
    "st.pyplot()"
   ]
  }
 ],
 "metadata": {
  "kernelspec": {
   "display_name": "Python 3 (ipykernel)",
   "language": "python",
   "name": "python3"
  },
  "language_info": {
   "codemirror_mode": {
    "name": "ipython",
    "version": 3
   },
   "file_extension": ".py",
   "mimetype": "text/x-python",
   "name": "python",
   "nbconvert_exporter": "python",
   "pygments_lexer": "ipython3",
   "version": "3.9.15"
  }
 },
 "nbformat": 4,
 "nbformat_minor": 5
}
